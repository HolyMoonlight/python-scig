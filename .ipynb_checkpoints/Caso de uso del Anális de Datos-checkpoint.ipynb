{
 "cells": [
  {
   "cell_type": "markdown",
   "metadata": {},
   "source": [
    "# Caso de uso del Análisis de Datos\n",
    "\n",
    "En este estudio vamos a analizar el conjunto de datos para la calidad del aire descrito en http://archive.ics.uci.edu/ml/datasets/Air+Quality.\n",
    "\n",
    "Comenzaremos por importar los datos, y hacer algunas gráficas para ver el comportamiento de los datos."
   ]
  },
  {
   "cell_type": "code",
   "execution_count": 1,
   "metadata": {},
   "outputs": [],
   "source": [
    "import pandas as pd\n",
    "import numpy as np\n",
    "import matplotlib.pyplot as plt"
   ]
  },
  {
   "cell_type": "markdown",
   "metadata": {},
   "source": [
    "Vamos a cargar los datos en un `DataFrame` desde el archivo `csv` ubicado en la computadora o directo del servidor."
   ]
  },
  {
   "cell_type": "code",
   "execution_count": 65,
   "metadata": {},
   "outputs": [
    {
     "name": "stdout",
     "output_type": "stream",
     "text": [
      "<class 'pandas.core.frame.DataFrame'>\n",
      "RangeIndex: 9471 entries, 0 to 9470\n",
      "Data columns (total 17 columns):\n",
      "Date             9357 non-null object\n",
      "Time             9357 non-null object\n",
      "CO(GT)           9357 non-null object\n",
      "PT08.S1(CO)      9357 non-null float64\n",
      "NMHC(GT)         9357 non-null float64\n",
      "C6H6(GT)         9357 non-null object\n",
      "PT08.S2(NMHC)    9357 non-null float64\n",
      "NOx(GT)          9357 non-null float64\n",
      "PT08.S3(NOx)     9357 non-null float64\n",
      "NO2(GT)          9357 non-null float64\n",
      "PT08.S4(NO2)     9357 non-null float64\n",
      "PT08.S5(O3)      9357 non-null float64\n",
      "T                9357 non-null object\n",
      "RH               9357 non-null object\n",
      "AH               9357 non-null object\n",
      "Unnamed: 15      0 non-null float64\n",
      "Unnamed: 16      0 non-null float64\n",
      "dtypes: float64(10), object(7)\n",
      "memory usage: 1.2+ MB\n",
      "None\n"
     ]
    }
   ],
   "source": [
    "df = pd.read_csv(\"http://badillosoft.com/air_quality.csv\", sep=\";\")\n",
    "\n",
    "print(df.info())"
   ]
  },
  {
   "cell_type": "markdown",
   "metadata": {},
   "source": [
    "## Pre-procesamiento de datos\n",
    "\n",
    "En pre-prepocesamiento de datos, vamos a generar como resultado un objeto de análisis limpio y entendible (manejable), dónde busquemos que los datos del análisis estén correctamente estructurados, formateados y organizados.\n",
    "\n",
    "Algunas columnas como la columna `CO(GT)` tiene valores numéricos en un formato estándar holandés del tipo `x,y` para referirse al numéro `x.y`, por lo que vamos a aplicar un mapeo que reemplace la `,` por `.` y convierta la cadena a flotante."
   ]
  },
  {
   "cell_type": "code",
   "execution_count": 66,
   "metadata": {},
   "outputs": [],
   "source": [
    "from time import strptime\n",
    "\n",
    "def clear_format(s):\n",
    "    return float(str(s).replace(\",\", \".\"))\n",
    "\n",
    "def time_format(t):\n",
    "    try:\n",
    "        return strptime(str(t), \"%H.%M.%S\")[3]\n",
    "    except:\n",
    "        return t\n",
    "\n",
    "#df[\"X\"] = df[\"X\"].map(lambda s: float(str(s).replace(\",\", \".\")))\n",
    "df[\"CO(GT)\"] = df[\"CO(GT)\"].map(clear_format)\n",
    "df[\"T\"] = df[\"T\"].map(clear_format)\n",
    "df[\"RH\"] = df[\"RH\"].map(clear_format)\n",
    "df[\"AH\"] = df[\"AH\"].map(clear_format)\n",
    "\n",
    "df[\"Time\"] = df[\"Time\"].map(time_format)"
   ]
  },
  {
   "cell_type": "code",
   "execution_count": 36,
   "metadata": {},
   "outputs": [
    {
     "name": "stdout",
     "output_type": "stream",
     "text": [
      "         Date  Time  CO(GT)  PT08.S1(CO)  NMHC(GT) C6H6(GT)  PT08.S2(NMHC)  \\\n",
      "0  10/03/2004  18.0     2.6       1360.0     150.0     11,9         1046.0   \n",
      "1  10/03/2004  19.0     2.0       1292.0     112.0      9,4          955.0   \n",
      "2  10/03/2004  20.0     2.2       1402.0      88.0      9,0          939.0   \n",
      "3  10/03/2004  21.0     2.2       1376.0      80.0      9,2          948.0   \n",
      "4  10/03/2004  22.0     1.6       1272.0      51.0      6,5          836.0   \n",
      "\n",
      "   NOx(GT)  PT08.S3(NOx)  NO2(GT)  PT08.S4(NO2)  PT08.S5(O3)     T    RH  \\\n",
      "0    166.0        1056.0    113.0        1692.0       1268.0  13.6  48.9   \n",
      "1    103.0        1174.0     92.0        1559.0        972.0  13.3  47.7   \n",
      "2    131.0        1140.0    114.0        1555.0       1074.0  11.9  54.0   \n",
      "3    172.0        1092.0    122.0        1584.0       1203.0  11.0  60.0   \n",
      "4    131.0        1205.0    116.0        1490.0       1110.0  11.2  59.6   \n",
      "\n",
      "       AH  Unnamed: 15  Unnamed: 16  \n",
      "0  0.7578          NaN          NaN  \n",
      "1  0.7255          NaN          NaN  \n",
      "2  0.7502          NaN          NaN  \n",
      "3  0.7867          NaN          NaN  \n",
      "4  0.7888          NaN          NaN  \n"
     ]
    }
   ],
   "source": [
    "print(df.head())"
   ]
  },
  {
   "cell_type": "markdown",
   "metadata": {},
   "source": [
    "Para un primer análisis es útil generar un `DataFrame` más limpio, que contenga sólo las columnas utilizadas en el análisis, de esta forma podremos apreciar los datos que serán utilizados para el análisis de forma clara y sin tener conflicto con otras columnas que pudieran tener datos malformados."
   ]
  },
  {
   "cell_type": "code",
   "execution_count": 67,
   "metadata": {},
   "outputs": [
    {
     "name": "stdout",
     "output_type": "stream",
     "text": [
      "         Date  Time  CO(GT)     T    RH      AH\n",
      "0  10/03/2004  18.0     2.6  13.6  48.9  0.7578\n",
      "1  10/03/2004  19.0     2.0  13.3  47.7  0.7255\n",
      "2  10/03/2004  20.0     2.2  11.9  54.0  0.7502\n",
      "3  10/03/2004  21.0     2.2  11.0  60.0  0.7867\n",
      "4  10/03/2004  22.0     1.6  11.2  59.6  0.7888\n",
      "     Date  Time  CO(GT)   T  RH  AH\n",
      "9466  NaN   NaN     NaN NaN NaN NaN\n",
      "9467  NaN   NaN     NaN NaN NaN NaN\n",
      "9468  NaN   NaN     NaN NaN NaN NaN\n",
      "9469  NaN   NaN     NaN NaN NaN NaN\n",
      "9470  NaN   NaN     NaN NaN NaN NaN\n"
     ]
    }
   ],
   "source": [
    "df_co = pd.DataFrame(df, columns=[\"Date\", \"Time\", \"CO(GT)\", \"T\", \"RH\", \"AH\"])\n",
    "\n",
    "print(df_co.head())\n",
    "print(df_co.tail())"
   ]
  },
  {
   "cell_type": "markdown",
   "metadata": {},
   "source": [
    "Vamos a quitar los `NaN` del `DataFrame` del análisis (`df_co`)."
   ]
  },
  {
   "cell_type": "code",
   "execution_count": 68,
   "metadata": {},
   "outputs": [
    {
     "name": "stdout",
     "output_type": "stream",
     "text": [
      "         Date  Time     T    RH      AH   CO\n",
      "0  10/03/2004  18.0  13.6  48.9  0.7578  2.6\n",
      "1  10/03/2004  19.0  13.3  47.7  0.7255  2.0\n",
      "2  10/03/2004  20.0  11.9  54.0  0.7502  2.2\n",
      "3  10/03/2004  21.0  11.0  60.0  0.7867  2.2\n",
      "4  10/03/2004  22.0  11.2  59.6  0.7888  1.6\n",
      "            Date  Time     T    RH      AH   CO\n",
      "9352  04/04/2005  10.0  21.9  29.3  0.7568  3.1\n",
      "9353  04/04/2005  11.0  24.3  23.7  0.7119  2.4\n",
      "9354  04/04/2005  12.0  26.9  18.3  0.6406  2.4\n",
      "9355  04/04/2005  13.0  28.3  13.5  0.5139  2.1\n",
      "9356  04/04/2005  14.0  28.5  13.1  0.5028  2.2\n"
     ]
    }
   ],
   "source": [
    "df_co = df_co.dropna()\n",
    "df_co[\"CO\"] = df_co[\"CO(GT)\"]\n",
    "del df_co[\"CO(GT)\"]\n",
    "df_co = df_co.query(\"CO >= 0\")\n",
    "\n",
    "print(df_co.head())\n",
    "print(df_co.tail())"
   ]
  },
  {
   "cell_type": "markdown",
   "metadata": {},
   "source": [
    "## Procesamiento de Datos\n",
    "\n",
    "En el procesamiento de datos, ya poseemos una estructura de datos limpia y manejable, de la cuál podemos empezar a buscar y generar datos, por ejemplo, promedios, máximos, mínimos, desviaciones estándar, correlaciones, indicadores, validar modelos, etc.\n",
    "\n",
    "Vamos a trabajar nuestro objeto limpio llamado `df_co`. Lo primero que necesitamos en ver como se distribuyen los datos a lo largo del tiempo. Podemos entonces, agrupar los datos por hora, de esta manera podremos generar una gráfica de como se distribuyen los niveles de `CO` para cada hora específica. Lo mismo para la temperatura y la humedad."
   ]
  },
  {
   "cell_type": "code",
   "execution_count": 74,
   "metadata": {},
   "outputs": [
    {
     "name": "stdout",
     "output_type": "stream",
     "text": [
      "Reporte general de la concentración de CO\n",
      "Mediciones: 7674\n",
      "Mínimo: 0.1\n",
      "Máximo: 11.9\n",
      "Promedio: 2.1527495439145157\n",
      "Desviación Estándar: 1.4532520363373336\n"
     ]
    }
   ],
   "source": [
    "n = len(df_co[\"CO\"])\n",
    "min_co = min(df_co[\"CO\"])\n",
    "max_co = max(df_co[\"CO\"])\n",
    "sum_co = sum(df_co[\"CO\"])\n",
    "avg_co = sum_co / n\n",
    "df_co[\"CO_diff\"] = df_co[\"CO\"].map(lambda co: (co - avg_co) ** 2)\n",
    "sum2_co = sum(df_co[\"CO_diff\"])\n",
    "ds_co = (sum2_co / (n - 1)) ** 0.5\n",
    "\n",
    "print(\"Reporte general de la concentración de CO\")\n",
    "print(\"Mediciones: {}\".format(n))\n",
    "print(\"Mínimo: {}\".format(min_co))\n",
    "print(\"Máximo: {}\".format(max_co))\n",
    "print(\"Promedio: {}\".format(avg_co))\n",
    "print(\"Desviación Estándar: {}\".format(ds_co))"
   ]
  },
  {
   "cell_type": "code",
   "execution_count": null,
   "metadata": {},
   "outputs": [],
   "source": []
  },
  {
   "cell_type": "code",
   "execution_count": 75,
   "metadata": {},
   "outputs": [
    {
     "name": "stdout",
     "output_type": "stream",
     "text": [
      "Reporte de la concentración de CO a las 0 horas\n",
      "Mediciones: 329\n",
      "Mínimo: 0.1\n",
      "Máximo: 5.9\n",
      "Promedio: 1.7860182370820665\n",
      "Desviación Estándar: 0.953944799185313\n"
     ]
    }
   ],
   "source": [
    "df_co_t0 = df_co.query(\"Time == 0\")\n",
    "\n",
    "n = len(df_co_t0[\"CO\"])\n",
    "min_co = min(df_co_t0[\"CO\"])\n",
    "max_co = max(df_co_t0[\"CO\"])\n",
    "sum_co = sum(df_co_t0[\"CO\"])\n",
    "avg_co = sum_co / n\n",
    "sum2_co = sum(df_co_t0[\"CO_diff\"])\n",
    "ds_co = (sum2_co / (n - 1)) ** 0.5\n",
    "\n",
    "print(\"Reporte de la concentración de CO a las 0 horas\")\n",
    "print(\"Mediciones: {}\".format(n))\n",
    "print(\"Mínimo: {}\".format(min_co))\n",
    "print(\"Máximo: {}\".format(max_co))\n",
    "print(\"Promedio: {}\".format(avg_co))\n",
    "print(\"Desviación Estándar: {}\".format(ds_co))"
   ]
  },
  {
   "cell_type": "code",
   "execution_count": null,
   "metadata": {},
   "outputs": [],
   "source": []
  },
  {
   "cell_type": "code",
   "execution_count": 86,
   "metadata": {},
   "outputs": [],
   "source": [
    "co_reporte = []\n",
    "\n",
    "def reporte_co_ti(ti):\n",
    "    df_co_ti = df_co.query(\"Time == {}\".format(ti))\n",
    "\n",
    "    n = len(df_co_ti[\"CO\"])\n",
    "    min_co = min(df_co_ti[\"CO\"])\n",
    "    max_co = max(df_co_ti[\"CO\"])\n",
    "    sum_co = sum(df_co_ti[\"CO\"])\n",
    "    avg_co = sum_co / n\n",
    "    sum2_co = sum(df_co_ti[\"CO_diff\"])\n",
    "    ds_co = (sum2_co / (n - 1)) ** 0.5\n",
    "    \n",
    "    co_reporte.append({\n",
    "        \"ti\": ti,\n",
    "        \"min\": min_co,\n",
    "        \"max\": max_co,\n",
    "        \"avg\": avg_co,\n",
    "        \"ds\": ds_co\n",
    "    })\n",
    "\n",
    "    print(\"Reporte de la concentración de CO a las {} horas\".format(ti))\n",
    "    print(\"Mediciones: {}\".format(n))\n",
    "    print(\"Mínimo: {}\".format(min_co))\n",
    "    print(\"Máximo: {}\".format(max_co))\n",
    "    print(\"Promedio: {}\".format(avg_co))\n",
    "    print(\"Desviación Estándar: {}\".format(ds_co))"
   ]
  },
  {
   "cell_type": "code",
   "execution_count": null,
   "metadata": {},
   "outputs": [],
   "source": []
  },
  {
   "cell_type": "code",
   "execution_count": 80,
   "metadata": {},
   "outputs": [
    {
     "name": "stdout",
     "output_type": "stream",
     "text": [
      "Reporte de la concentración de CO a las 18 horas\n",
      "Mediciones: 333\n",
      "Mínimo: 0.1\n",
      "Máximo: 10.2\n",
      "Promedio: 3.4363363363363395\n",
      "Desviación Estándar: 2.2906827277153115\n"
     ]
    }
   ],
   "source": [
    "reporte_co_ti(18)"
   ]
  },
  {
   "cell_type": "code",
   "execution_count": null,
   "metadata": {},
   "outputs": [],
   "source": []
  },
  {
   "cell_type": "code",
   "execution_count": 87,
   "metadata": {},
   "outputs": [
    {
     "name": "stdout",
     "output_type": "stream",
     "text": [
      "Reporte de la concentración de CO a las 0 horas\n",
      "Mediciones: 329\n",
      "Mínimo: 0.1\n",
      "Máximo: 5.9\n",
      "Promedio: 1.7860182370820665\n",
      "Desviación Estándar: 0.953944799185313\n",
      "------------------------------------------------------------\n",
      "Reporte de la concentración de CO a las 1 horas\n",
      "Mediciones: 323\n",
      "Mínimo: 0.1\n",
      "Máximo: 5.6\n",
      "Promedio: 1.4678018575851395\n",
      "Desviación Estándar: 1.0490481723694742\n",
      "------------------------------------------------------------\n",
      "Reporte de la concentración de CO a las 2 horas\n",
      "Mediciones: 320\n",
      "Mínimo: 0.1\n",
      "Máximo: 5.5\n",
      "Promedio: 1.0990624999999998\n",
      "Desviación Estándar: 1.268390437642035\n",
      "------------------------------------------------------------\n",
      "Reporte de la concentración de CO a las 3 horas\n",
      "Mediciones: 312\n",
      "Mínimo: 0.1\n",
      "Máximo: 5.2\n",
      "Promedio: 0.8884615384615387\n",
      "Desviación Estándar: 1.4049599777880741\n",
      "------------------------------------------------------------\n",
      "Reporte de la concentración de CO a las 4 horas\n",
      "Mediciones: 179\n",
      "Mínimo: 0.1\n",
      "Máximo: 2.8\n",
      "Promedio: 0.7586592178770949\n",
      "Desviación Estándar: 1.480658828956206\n",
      "------------------------------------------------------------\n",
      "Reporte de la concentración de CO a las 5 horas\n",
      "Mediciones: 317\n",
      "Mínimo: 0.1\n",
      "Máximo: 2.9\n",
      "Promedio: 0.7129337539432183\n",
      "Desviación Estándar: 1.4937422273277947\n",
      "------------------------------------------------------------\n",
      "Reporte de la concentración de CO a las 6 horas\n",
      "Mediciones: 320\n",
      "Mínimo: 0.1\n",
      "Máximo: 3.5\n",
      "Promedio: 0.9215625\n",
      "Desviación Estándar: 1.3083816017301373\n",
      "------------------------------------------------------------\n",
      "Reporte de la concentración de CO a las 7 horas\n",
      "Mediciones: 321\n",
      "Mínimo: 0.1\n",
      "Máximo: 5.7\n",
      "Promedio: 1.8109034267912765\n",
      "Desviación Estándar: 1.222016139505144\n",
      "------------------------------------------------------------\n",
      "Reporte de la concentración de CO a las 8 horas\n",
      "Mediciones: 320\n",
      "Mínimo: 0.1\n",
      "Máximo: 7.3\n",
      "Promedio: 2.8237500000000004\n",
      "Desviación Estándar: 1.6505312300160697\n",
      "------------------------------------------------------------\n",
      "Reporte de la concentración de CO a las 9 horas\n",
      "Mediciones: 327\n",
      "Mínimo: 0.1\n",
      "Máximo: 8.1\n",
      "Promedio: 2.972477064220183\n",
      "Desviación Estándar: 1.756129486789984\n",
      "------------------------------------------------------------\n",
      "Reporte de la concentración de CO a las 10 horas\n",
      "Mediciones: 327\n",
      "Mínimo: 0.2\n",
      "Máximo: 6.6\n",
      "Promedio: 2.5657492354740055\n",
      "Desviación Estándar: 1.3423635084182486\n",
      "------------------------------------------------------------\n",
      "Reporte de la concentración de CO a las 11 horas\n",
      "Mediciones: 325\n",
      "Mínimo: 0.1\n",
      "Máximo: 6.6\n",
      "Promedio: 2.2609230769230764\n",
      "Desviación Estándar: 1.0810898634446786\n",
      "------------------------------------------------------------\n",
      "Reporte de la concentración de CO a las 12 horas\n",
      "Mediciones: 326\n",
      "Mínimo: 0.1\n",
      "Máximo: 6.0\n",
      "Promedio: 2.1696319018404915\n",
      "Desviación Estándar: 0.9890512476342017\n",
      "------------------------------------------------------------\n",
      "Reporte de la concentración de CO a las 13 horas\n",
      "Mediciones: 326\n",
      "Mínimo: 0.1\n",
      "Máximo: 6.9\n",
      "Promedio: 2.2012269938650317\n",
      "Desviación Estándar: 1.1190732839006519\n",
      "------------------------------------------------------------\n",
      "Reporte de la concentración de CO a las 14 horas\n",
      "Mediciones: 326\n",
      "Mínimo: 0.1\n",
      "Máximo: 7.9\n",
      "Promedio: 2.126073619631902\n",
      "Desviación Estándar: 1.2135394607921113\n",
      "------------------------------------------------------------\n",
      "Reporte de la concentración de CO a las 15 horas\n",
      "Mediciones: 325\n",
      "Mínimo: 0.1\n",
      "Máximo: 6.1\n",
      "Promedio: 2.0492307692307694\n",
      "Desviación Estándar: 1.0897885344251677\n",
      "------------------------------------------------------------\n",
      "Reporte de la concentración de CO a las 16 horas\n",
      "Mediciones: 329\n",
      "Mínimo: 0.2\n",
      "Máximo: 7.1\n",
      "Promedio: 2.267477203647414\n",
      "Desviación Estándar: 1.1971669396454916\n",
      "------------------------------------------------------------\n",
      "Reporte de la concentración de CO a las 17 horas\n",
      "Mediciones: 331\n",
      "Mínimo: 0.3\n",
      "Máximo: 8.4\n",
      "Promedio: 2.8163141993957703\n",
      "Desviación Estándar: 1.696839467181133\n",
      "------------------------------------------------------------\n",
      "Reporte de la concentración de CO a las 18 horas\n",
      "Mediciones: 333\n",
      "Mínimo: 0.1\n",
      "Máximo: 10.2\n",
      "Promedio: 3.4363363363363395\n",
      "Desviación Estándar: 2.2906827277153115\n",
      "------------------------------------------------------------\n",
      "Reporte de la concentración de CO a las 19 horas\n",
      "Mediciones: 334\n",
      "Mínimo: 0.4\n",
      "Máximo: 11.9\n",
      "Promedio: 3.7332335329341335\n",
      "Desviación Estándar: 2.4147504719994908\n",
      "------------------------------------------------------------\n",
      "Reporte de la concentración de CO a las 20 horas\n",
      "Mediciones: 333\n",
      "Mínimo: 0.7\n",
      "Máximo: 11.5\n",
      "Promedio: 3.4690690690690693\n",
      "Desviación Estándar: 2.184542867421798\n",
      "------------------------------------------------------------\n",
      "Reporte de la concentración de CO a las 21 horas\n",
      "Mediciones: 332\n",
      "Mínimo: 0.3\n",
      "Máximo: 8.6\n",
      "Promedio: 2.6009036144578306\n",
      "Desviación Estándar: 1.4129839186231976\n",
      "------------------------------------------------------------\n",
      "Reporte de la concentración de CO a las 22 horas\n",
      "Mediciones: 330\n",
      "Mínimo: 0.1\n",
      "Máximo: 5.4\n",
      "Promedio: 1.9769696969696968\n",
      "Desviación Estándar: 0.8977538548666876\n",
      "------------------------------------------------------------\n",
      "Reporte de la concentración de CO a las 23 horas\n",
      "Mediciones: 329\n",
      "Mínimo: 0.1\n",
      "Máximo: 5.4\n",
      "Promedio: 1.8775075987841943\n",
      "Desviación Estándar: 0.8944237490526361\n",
      "------------------------------------------------------------\n"
     ]
    }
   ],
   "source": [
    "for ti in range(0, 24):\n",
    "    reporte_co_ti(ti)\n",
    "    print(\"-\" * 60)"
   ]
  },
  {
   "cell_type": "code",
   "execution_count": null,
   "metadata": {},
   "outputs": [],
   "source": []
  },
  {
   "cell_type": "code",
   "execution_count": 90,
   "metadata": {},
   "outputs": [
    {
     "name": "stdout",
     "output_type": "stream",
     "text": [
      "         avg        ds   max  min  ti\n",
      "0   1.786018  0.953945   5.9  0.1   0\n",
      "1   1.467802  1.049048   5.6  0.1   1\n",
      "2   1.099062  1.268390   5.5  0.1   2\n",
      "3   0.888462  1.404960   5.2  0.1   3\n",
      "4   0.758659  1.480659   2.8  0.1   4\n",
      "5   0.712934  1.493742   2.9  0.1   5\n",
      "6   0.921562  1.308382   3.5  0.1   6\n",
      "7   1.810903  1.222016   5.7  0.1   7\n",
      "8   2.823750  1.650531   7.3  0.1   8\n",
      "9   2.972477  1.756129   8.1  0.1   9\n",
      "10  2.565749  1.342364   6.6  0.2  10\n",
      "11  2.260923  1.081090   6.6  0.1  11\n",
      "12  2.169632  0.989051   6.0  0.1  12\n",
      "13  2.201227  1.119073   6.9  0.1  13\n",
      "14  2.126074  1.213539   7.9  0.1  14\n",
      "15  2.049231  1.089789   6.1  0.1  15\n",
      "16  2.267477  1.197167   7.1  0.2  16\n",
      "17  2.816314  1.696839   8.4  0.3  17\n",
      "18  3.436336  2.290683  10.2  0.1  18\n",
      "19  3.733234  2.414750  11.9  0.4  19\n",
      "20  3.469069  2.184543  11.5  0.7  20\n",
      "21  2.600904  1.412984   8.6  0.3  21\n",
      "22  1.976970  0.897754   5.4  0.1  22\n",
      "23  1.877508  0.894424   5.4  0.1  23\n"
     ]
    }
   ],
   "source": [
    "df_co_reporte = pd.DataFrame(co_reporte)\n",
    "print(df_co_reporte)"
   ]
  },
  {
   "cell_type": "code",
   "execution_count": null,
   "metadata": {},
   "outputs": [],
   "source": []
  },
  {
   "cell_type": "code",
   "execution_count": 94,
   "metadata": {},
   "outputs": [
    {
     "data": {
      "image/png": "[encoded data removed]",
      "text/plain": [
       "<Figure size 432x288 with 1 Axes>"
      ]
     },
     "metadata": {
      "needs_background": "light"
     },
     "output_type": "display_data"
    }
   ],
   "source": [
    "plt.plot(df_co_reporte[\"ti\"], df_co_reporte[\"avg\"], \"*--\")\n",
    "\n",
    "plt.show()"
   ]
  },
  {
   "cell_type": "code",
   "execution_count": 160,
   "metadata": {},
   "outputs": [],
   "source": [
    "from math import sin, cos, pi\n",
    "\n",
    "def modelo_co(t, a, b, w1, w2, p1, p2, bias):\n",
    "    return a * sin(w1 * t + p1) + b * cos(w2 * t + p2) + bias"
   ]
  },
  {
   "cell_type": "code",
   "execution_count": 161,
   "metadata": {},
   "outputs": [
    {
     "data": {
      "image/png": "[encoded data removed]",
      "text/plain": [
       "<Figure size 432x288 with 1 Axes>"
      ]
     },
     "metadata": {
      "needs_background": "light"
     },
     "output_type": "display_data"
    }
   ],
   "source": [
    "a = 1\n",
    "b = 2.5\n",
    "w1 = pi / 3\n",
    "w2 = pi / 3\n",
    "p1 = 2\n",
    "p2 = 0.5\n",
    "bias = 1\n",
    "\n",
    "t = np.linspace(0, 24, 100)\n",
    "y = [modelo_co(ti, a, b, w1, w2, p1, p2, bias) for ti in t]\n",
    "\n",
    "plt.plot(df_co_reporte[\"ti\"], df_co_reporte[\"avg\"], \"*--\")\n",
    "plt.plot(t, y, color=\"red\")\n",
    "\n",
    "plt.show()"
   ]
  },
  {
   "cell_type": "code",
   "execution_count": 164,
   "metadata": {},
   "outputs": [
    {
     "name": "stdout",
     "output_type": "stream",
     "text": [
      "Step 0: 124.08844801728652\n",
      "Step 1000: 10.346827168220669\n",
      "Step 2000: 10.346827168220669\n",
      "Step 3000: 7.673948788990888\n",
      "Step 4000: 7.673948788990888\n",
      "Step 5000: 7.673948788990888\n",
      "Step 6000: 7.673948788990888\n",
      "Step 7000: 7.673948788990888\n",
      "Step 8000: 7.673948788990888\n",
      "Step 9000: 7.673948788990888\n"
     ]
    },
    {
     "data": {
      "image/png": "[encoded data removed]",
      "text/plain": [
       "<Figure size 432x288 with 1 Axes>"
      ]
     },
     "metadata": {
      "needs_background": "light"
     },
     "output_type": "display_data"
    }
   ],
   "source": [
    "import random\n",
    "\n",
    "def optimizador_co():\n",
    "    a = 0\n",
    "    b = 0\n",
    "    w1 = 0\n",
    "    w2 = 0\n",
    "    p1 = 0\n",
    "    p2 = 0\n",
    "    bias = 0\n",
    "    \n",
    "    berr = 10 ** 100\n",
    "    ba = a\n",
    "    bb = b\n",
    "    bw1 = w1\n",
    "    bw2 = w2\n",
    "    bp1 = p1\n",
    "    bp2 = p2\n",
    "    bbias = bias\n",
    "    \n",
    "    gerr = berr\n",
    "    ga = a\n",
    "    gb = b\n",
    "    gw1 = w1\n",
    "    gw2 = w2\n",
    "    gp1 = p1\n",
    "    gp2 = p2\n",
    "    gbias = bias\n",
    "    \n",
    "    for step in range(10000):\n",
    "        err = 0\n",
    "        for i in range(len(df_co_reporte)):\n",
    "            ti = df_co_reporte[\"ti\"][i]\n",
    "            ye = df_co_reporte[\"avg\"][i]\n",
    "            y = modelo_co(ti, a, b, w1, w2, p1, p2, bias)\n",
    "            err += (y - ye) ** 2\n",
    "            a += (2 * random.random() - 1) / 10\n",
    "            b += (2 * random.random() - 1) / 10\n",
    "            w1 += (2 * random.random() - 1) / 10\n",
    "            w2 += (2 * random.random() - 1) / 10\n",
    "            p1 += (2 * random.random() - 1) / 10\n",
    "            p2 += (2 * random.random() - 1) / 10\n",
    "            bias += (2 * random.random() - 1) / 10\n",
    "        if err < berr:\n",
    "            berr = err\n",
    "            ba = a\n",
    "            bb = b\n",
    "            bw1 = w1\n",
    "            bw2 = w2\n",
    "            bp1 = p1\n",
    "            bp2 = p2\n",
    "            bbias = bias\n",
    "        if berr < gerr:\n",
    "            gerr = berr\n",
    "            ga = ba\n",
    "            gb = bb\n",
    "            gw1 = bw1\n",
    "            gw2 = bw2\n",
    "            gp1 = bp1\n",
    "            gp2 = bp2\n",
    "            gbias = bbias\n",
    "        a = ba\n",
    "        b = bb\n",
    "        w1 = bw1\n",
    "        w2 = bw2\n",
    "        p1 = bp1\n",
    "        p2 = bp2\n",
    "        bias = bbias\n",
    "        if step % 1000 == 0:\n",
    "            print(\"Step {}: {}\".format(step, gerr))\n",
    "            \n",
    "    t = np.linspace(0, 24, 100)\n",
    "    y = [modelo_co(ti, ga, gb, gw1, gw2, gp1, gp2, bias) for ti in t]\n",
    "\n",
    "    plt.plot(df_co_reporte[\"ti\"], df_co_reporte[\"avg\"], \"*--\")\n",
    "    plt.plot(t, y, color=\"red\")\n",
    "\n",
    "    plt.show()\n",
    "        \n",
    "optimizador_co()"
   ]
  },
  {
   "cell_type": "code",
   "execution_count": null,
   "metadata": {},
   "outputs": [],
   "source": []
  },
  {
   "cell_type": "code",
   "execution_count": 153,
   "metadata": {},
   "outputs": [],
   "source": [
    "f = open(\"reporte_co.csv\", \"w\")\n",
    "\n",
    "f.write(df_co_reporte.to_csv())\n",
    "\n",
    "f.close()"
   ]
  },
  {
   "cell_type": "code",
   "execution_count": 155,
   "metadata": {},
   "outputs": [],
   "source": [
    "with open(\"co.csv\", \"w\") as f:\n",
    "    f.write(df_co.to_csv())"
   ]
  }
 ],
 "metadata": {
  "kernelspec": {
   "display_name": "Python 3",
   "language": "python",
   "name": "python3"
  },
  "language_info": {
   "codemirror_mode": {
    "name": "ipython",
    "version": 3
   },
   "file_extension": ".py",
   "mimetype": "text/x-python",
   "name": "python",
   "nbconvert_exporter": "python",
   "pygments_lexer": "ipython3",
   "version": "3.7.0"
  }
 },
 "nbformat": 4,
 "nbformat_minor": 2
}
