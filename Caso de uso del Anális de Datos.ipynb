{
 "cells": [
  {
   "cell_type": "markdown",
   "metadata": {},
   "source": [
    "# Caso de uso del Análisis de Datos\n",
    "\n",
    "En este estudio vamos a analizar el conjunto de datos para la calidad del aire descrito en http://archive.ics.uci.edu/ml/datasets/Air+Quality.\n",
    "\n",
    "Comenzaremos por importar los datos, y hacer algunas gráficas para ver el comportamiento de los datos."
   ]
  },
  {
   "cell_type": "code",
   "execution_count": 1,
   "metadata": {},
   "outputs": [],
   "source": [
    "import pandas as pd\n",
    "import numpy as np\n",
    "import matplotlib.pyplot as plt"
   ]
  },
  {
   "cell_type": "markdown",
   "metadata": {},
   "source": [
    "Vamos a cargar los datos en un `DataFrame` desde el archivo `csv` ubicado en la computadora o directo del servidor."
   ]
  },
  {
   "cell_type": "code",
   "execution_count": 34,
   "metadata": {},
   "outputs": [
    {
     "name": "stdout",
     "output_type": "stream",
     "text": [
      "<class 'pandas.core.frame.DataFrame'>\n",
      "RangeIndex: 9471 entries, 0 to 9470\n",
      "Data columns (total 17 columns):\n",
      "Date             9357 non-null object\n",
      "Time             9357 non-null object\n",
      "CO(GT)           9357 non-null object\n",
      "PT08.S1(CO)      9357 non-null float64\n",
      "NMHC(GT)         9357 non-null float64\n",
      "C6H6(GT)         9357 non-null object\n",
      "PT08.S2(NMHC)    9357 non-null float64\n",
      "NOx(GT)          9357 non-null float64\n",
      "PT08.S3(NOx)     9357 non-null float64\n",
      "NO2(GT)          9357 non-null float64\n",
      "PT08.S4(NO2)     9357 non-null float64\n",
      "PT08.S5(O3)      9357 non-null float64\n",
      "T                9357 non-null object\n",
      "RH               9357 non-null object\n",
      "AH               9357 non-null object\n",
      "Unnamed: 15      0 non-null float64\n",
      "Unnamed: 16      0 non-null float64\n",
      "dtypes: float64(10), object(7)\n",
      "memory usage: 1.2+ MB\n",
      "None\n"
     ]
    }
   ],
   "source": [
    "df = pd.read_csv(\"http://badillosoft.com/air_quality.csv\", sep=\";\")\n",
    "\n",
    "print(df.info())"
   ]
  },
  {
   "cell_type": "markdown",
   "metadata": {},
   "source": [
    "## Pre-procesamiento de datos\n",
    "\n",
    "En pre-prepocesamiento de datos, vamos a generar como resultado un objeto de análisis limpio y entendible (manejable), dónde busquemos que los datos del análisis estén correctamente estructurados, formateados y organizados.\n",
    "\n",
    "Algunas columnas como la columna `CO(GT)` tiene valores numéricos en un formato estándar holandés del tipo `x,y` para referirse al numéro `x.y`, por lo que vamos a aplicar un mapeo que reemplace la `,` por `.` y convierta la cadena a flotante."
   ]
  },
  {
   "cell_type": "code",
   "execution_count": 35,
   "metadata": {},
   "outputs": [],
   "source": [
    "from time import strptime\n",
    "\n",
    "def clear_format(s):\n",
    "    return float(str(s).replace(\",\", \".\"))\n",
    "\n",
    "def time_format(t):\n",
    "    try:\n",
    "        return strptime(str(t), \"%H.%M.%S\")[3]\n",
    "    except:\n",
    "        return t\n",
    "\n",
    "#df[\"X\"] = df[\"X\"].map(lambda s: float(str(s).replace(\",\", \".\")))\n",
    "df[\"CO(GT)\"] = df[\"CO(GT)\"].map(clear_format)\n",
    "df[\"T\"] = df[\"T\"].map(clear_format)\n",
    "df[\"RH\"] = df[\"RH\"].map(clear_format)\n",
    "df[\"AH\"] = df[\"AH\"].map(clear_format)\n",
    "\n",
    "df[\"Time\"] = df[\"Time\"].map(time_format)"
   ]
  },
  {
   "cell_type": "code",
   "execution_count": 36,
   "metadata": {},
   "outputs": [
    {
     "name": "stdout",
     "output_type": "stream",
     "text": [
      "         Date  Time  CO(GT)  PT08.S1(CO)  NMHC(GT) C6H6(GT)  PT08.S2(NMHC)  \\\n",
      "0  10/03/2004  18.0     2.6       1360.0     150.0     11,9         1046.0   \n",
      "1  10/03/2004  19.0     2.0       1292.0     112.0      9,4          955.0   \n",
      "2  10/03/2004  20.0     2.2       1402.0      88.0      9,0          939.0   \n",
      "3  10/03/2004  21.0     2.2       1376.0      80.0      9,2          948.0   \n",
      "4  10/03/2004  22.0     1.6       1272.0      51.0      6,5          836.0   \n",
      "\n",
      "   NOx(GT)  PT08.S3(NOx)  NO2(GT)  PT08.S4(NO2)  PT08.S5(O3)     T    RH  \\\n",
      "0    166.0        1056.0    113.0        1692.0       1268.0  13.6  48.9   \n",
      "1    103.0        1174.0     92.0        1559.0        972.0  13.3  47.7   \n",
      "2    131.0        1140.0    114.0        1555.0       1074.0  11.9  54.0   \n",
      "3    172.0        1092.0    122.0        1584.0       1203.0  11.0  60.0   \n",
      "4    131.0        1205.0    116.0        1490.0       1110.0  11.2  59.6   \n",
      "\n",
      "       AH  Unnamed: 15  Unnamed: 16  \n",
      "0  0.7578          NaN          NaN  \n",
      "1  0.7255          NaN          NaN  \n",
      "2  0.7502          NaN          NaN  \n",
      "3  0.7867          NaN          NaN  \n",
      "4  0.7888          NaN          NaN  \n"
     ]
    }
   ],
   "source": [
    "print(df.head())"
   ]
  },
  {
   "cell_type": "markdown",
   "metadata": {},
   "source": [
    "Para un primer análisis es útil generar un `DataFrame` más limpio, que contenga sólo las columnas utilizadas en el análisis, de esta forma podremos apreciar los datos que serán utilizados para el análisis de forma clara y sin tener conflicto con otras columnas que pudieran tener datos malformados."
   ]
  },
  {
   "cell_type": "code",
   "execution_count": 37,
   "metadata": {},
   "outputs": [
    {
     "name": "stdout",
     "output_type": "stream",
     "text": [
      "         Date  Time  CO(GT)     T    RH      AH\n",
      "0  10/03/2004  18.0     2.6  13.6  48.9  0.7578\n",
      "1  10/03/2004  19.0     2.0  13.3  47.7  0.7255\n",
      "2  10/03/2004  20.0     2.2  11.9  54.0  0.7502\n",
      "3  10/03/2004  21.0     2.2  11.0  60.0  0.7867\n",
      "4  10/03/2004  22.0     1.6  11.2  59.6  0.7888\n",
      "     Date  Time  CO(GT)   T  RH  AH\n",
      "9466  NaN   NaN     NaN NaN NaN NaN\n",
      "9467  NaN   NaN     NaN NaN NaN NaN\n",
      "9468  NaN   NaN     NaN NaN NaN NaN\n",
      "9469  NaN   NaN     NaN NaN NaN NaN\n",
      "9470  NaN   NaN     NaN NaN NaN NaN\n"
     ]
    }
   ],
   "source": [
    "df_co = pd.DataFrame(df, columns=[\"Date\", \"Time\", \"CO(GT)\", \"T\", \"RH\", \"AH\"])\n",
    "\n",
    "print(df_co.head())\n",
    "print(df_co.tail())"
   ]
  },
  {
   "cell_type": "markdown",
   "metadata": {},
   "source": [
    "Vamos a quitar los `NaN` del `DataFrame` del análisis (`df_co`)."
   ]
  },
  {
   "cell_type": "code",
   "execution_count": 54,
   "metadata": {},
   "outputs": [
    {
     "name": "stdout",
     "output_type": "stream",
     "text": [
      "         Date  Time     T    RH      AH   CO\n",
      "0  10/03/2004  18.0  13.6  48.9  0.7578  2.6\n",
      "1  10/03/2004  19.0  13.3  47.7  0.7255  2.0\n",
      "2  10/03/2004  20.0  11.9  54.0  0.7502  2.2\n",
      "3  10/03/2004  21.0  11.0  60.0  0.7867  2.2\n",
      "4  10/03/2004  22.0  11.2  59.6  0.7888  1.6\n",
      "            Date  Time     T    RH      AH   CO\n",
      "9352  04/04/2005  10.0  21.9  29.3  0.7568  3.1\n",
      "9353  04/04/2005  11.0  24.3  23.7  0.7119  2.4\n",
      "9354  04/04/2005  12.0  26.9  18.3  0.6406  2.4\n",
      "9355  04/04/2005  13.0  28.3  13.5  0.5139  2.1\n",
      "9356  04/04/2005  14.0  28.5  13.1  0.5028  2.2\n"
     ]
    }
   ],
   "source": [
    "df_co = df_co.dropna()\n",
    "df_co[\"CO\"] = df_co[\"CO(GT)\"]\n",
    "del df_co[\"CO(GT)\"]\n",
    "df_co = df_co.query(\"CO >= 0\")\n",
    "\n",
    "print(df_co.head())\n",
    "print(df_co.tail())"
   ]
  },
  {
   "cell_type": "markdown",
   "metadata": {},
   "source": [
    "## Procesamiento de Datos\n",
    "\n",
    "En el procesamiento de datos, ya poseemos una estructura de datos limpia y manejable, de la cuál podemos empezar a buscar y generar datos, por ejemplo, promedios, máximos, mínimos, desviaciones estándar, correlaciones, indicadores, validar modelos, etc.\n",
    "\n",
    "Vamos a trabajar nuestro objeto limpio llamado `df_co`. Lo primero que necesitamos en ver como se distribuyen los datos a lo largo del tiempo. Podemos entonces, agrupar los datos por hora, de esta manera podremos generar una gráfica de como se distribuyen los niveles de `CO` para cada hora específica. Lo mismo para la temperatura y la humedad."
   ]
  },
  {
   "cell_type": "code",
   "execution_count": 57,
   "metadata": {},
   "outputs": [
    {
     "name": "stdout",
     "output_type": "stream",
     "text": [
      "Reporte general de la concentración de CO\n",
      "Mediciones: 7674\n",
      "Mínimo: 0.1\n",
      "Máximo: 11.9\n",
      "Promedio: 2.1527495439145157\n",
      "Desviación Estándar: 1.4532520363373336\n"
     ]
    }
   ],
   "source": [
    "n = len(df_co[\"CO\"])\n",
    "min_co = min(df_co[\"CO\"])\n",
    "max_co = max(df_co[\"CO\"])\n",
    "sum_co = sum(df_co[\"CO\"])\n",
    "avg_co = sum_co / n\n",
    "df_co[\"CO_diff\"] = df_co[\"CO\"].map(lambda co: (co - avg_co) ** 2)\n",
    "sum2_co = sum(df_co[\"CO_diff\"])\n",
    "ds_co = (sum2_co / (n - 1)) ** 0.5\n",
    "\n",
    "print(\"Reporte general de la concentración de CO\")\n",
    "print(\"Mediciones: {}\".format(n))\n",
    "print(\"Mínimo: {}\".format(min_co))\n",
    "print(\"Máximo: {}\".format(max_co))\n",
    "print(\"Promedio: {}\".format(avg_co))\n",
    "print(\"Desviación Estándar: {}\".format(ds_co))"
   ]
  },
  {
   "cell_type": "code",
   "execution_count": null,
   "metadata": {},
   "outputs": [],
   "source": []
  },
  {
   "cell_type": "code",
   "execution_count": 58,
   "metadata": {},
   "outputs": [
    {
     "name": "stdout",
     "output_type": "stream",
     "text": [
      "Reporte de la concentración de CO a las 0 horas\n",
      "Mediciones: 329\n",
      "Mínimo: 0.1\n",
      "Máximo: 5.9\n",
      "Promedio: 1.7860182370820665\n",
      "Desviación Estándar: 0.953944799185313\n"
     ]
    }
   ],
   "source": [
    "df_co_t0 = df_co.query(\"Time == 0\")\n",
    "\n",
    "n = len(df_co_t0[\"CO\"])\n",
    "min_co = min(df_co_t0[\"CO\"])\n",
    "max_co = max(df_co_t0[\"CO\"])\n",
    "sum_co = sum(df_co_t0[\"CO\"])\n",
    "avg_co = sum_co / n\n",
    "df_co[\"CO_diff\"] = df_co_t0[\"CO\"].map(lambda co: (co - avg_co) ** 2)\n",
    "sum2_co = sum(df_co_t0[\"CO_diff\"])\n",
    "ds_co = (sum2_co / (n - 1)) ** 0.5\n",
    "\n",
    "print(\"Reporte de la concentración de CO a las 0 horas\")\n",
    "print(\"Mediciones: {}\".format(n))\n",
    "print(\"Mínimo: {}\".format(min_co))\n",
    "print(\"Máximo: {}\".format(max_co))\n",
    "print(\"Promedio: {}\".format(avg_co))\n",
    "print(\"Desviación Estándar: {}\".format(ds_co))"
   ]
  },
  {
   "cell_type": "code",
   "execution_count": null,
   "metadata": {},
   "outputs": [],
   "source": []
  }
 ],
 "metadata": {
  "kernelspec": {
   "display_name": "Python 3",
   "language": "python",
   "name": "python3"
  },
  "language_info": {
   "codemirror_mode": {
    "name": "ipython",
    "version": 3
   },
   "file_extension": ".py",
   "mimetype": "text/x-python",
   "name": "python",
   "nbconvert_exporter": "python",
   "pygments_lexer": "ipython3",
   "version": "3.7.0"
  }
 },
 "nbformat": 4,
 "nbformat_minor": 2
}
