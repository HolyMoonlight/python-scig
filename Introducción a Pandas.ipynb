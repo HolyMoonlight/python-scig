{
 "cells": [
  {
   "cell_type": "markdown",
   "metadata": {},
   "source": [
    "## Introducción  a Pandas\n",
    "\n",
    "Alan Badillo Salas (badillo.soft@hotmail.com)\n",
    "\n",
    "Pandas en una librería de python que nos permite manipular datos mediante dos estructuras de datos muy potentes (Series y DataFrames). Pandas es ampliamente utilizada en las áreas de Análisis de Datos, Ciencia de Datos, Estadística y otras ramas. Tiene buena integración con las librerías de `matplotlib` y `numpy`. Soporta diversos formatos de entrada como `CSV`, `Excel` y `SQL`.\n",
    "\n",
    "La documentación oficial la podemos consultar en https://pandas.pydata.org/.\n",
    "\n",
    "Dentro de la documentación podemos encontrar un tour de \"10 minutos\" disponible en http://pandas.pydata.org/pandas-docs/stable/10min.html.\n",
    "\n",
    "## Introducción\n",
    "\n",
    "Las dos estructuras principales de `pandas` son las `Series` que equivalen a vectores o areglos uni-dimensionales de `numpy` y también tenemos los `DataFrames` que equivales a tablas (SQL/CSV) o arreglos bi-dimensionales de `numpy`.\n",
    "\n",
    "## Series\n",
    "\n",
    "Las series son arreglos de `numpy`, por lo que podemos utilizarlas como utilizamos los vectores en `numpy`."
   ]
  },
  {
   "cell_type": "code",
   "execution_count": 3,
   "metadata": {},
   "outputs": [
    {
     "name": "stdout",
     "output_type": "stream",
     "text": [
      "0    1\n",
      "1    2\n",
      "2    3\n",
      "3    4\n",
      "dtype: int64\n"
     ]
    }
   ],
   "source": [
    "import pandas as pd\n",
    "\n",
    "# Crear una Serie a partir de una lista de python\n",
    "s1 = pd.Series([1, 2, 3, 4])\n",
    "\n",
    "print(s1)"
   ]
  },
  {
   "cell_type": "code",
   "execution_count": 5,
   "metadata": {},
   "outputs": [
    {
     "name": "stdout",
     "output_type": "stream",
     "text": [
      "0    1\n",
      "1    2\n",
      "2    3\n",
      "3    1\n",
      "4    2\n",
      "5    3\n",
      "6    2\n",
      "7    1\n",
      "8    1\n",
      "9    1\n",
      "dtype: int64\n"
     ]
    }
   ],
   "source": [
    "import numpy as np\n",
    "\n",
    "# Crear una Serie a partir de un arreglo de `numpy`\n",
    "\n",
    "s2 = pd.Series(np.random.randint(1, 4, 10))\n",
    "\n",
    "print(s2)"
   ]
  },
  {
   "cell_type": "code",
   "execution_count": 6,
   "metadata": {},
   "outputs": [
    {
     "name": "stdout",
     "output_type": "stream",
     "text": [
      "nombre      Ana\n",
      "edad         23\n",
      "genero    Mujer\n",
      "dtype: object\n"
     ]
    }
   ],
   "source": [
    "# Crear una Serie con índices manuales\n",
    "\n",
    "s4 = pd.Series([\"Ana\", 23, \"Mujer\"], index=[\"nombre\", \"edad\", \"genero\"])\n",
    "\n",
    "print(s4)"
   ]
  },
  {
   "cell_type": "markdown",
   "metadata": {},
   "source": [
    "## Operaciones entre series\n",
    "\n",
    "Podemos manipular las series como arreglos de `numpy` (aplicar las operaciones entre vectores). El resultado será una nueva serie. Cuándo los índices no coinciden se almacenerá un `NaN`."
   ]
  },
  {
   "cell_type": "code",
   "execution_count": 7,
   "metadata": {},
   "outputs": [
    {
     "name": "stdout",
     "output_type": "stream",
     "text": [
      "0     5\n",
      "1    10\n",
      "2    15\n",
      "3    20\n",
      "4    25\n",
      "dtype: int64\n"
     ]
    }
   ],
   "source": [
    "s1 = pd.Series([1, 2, 3, 4, 5])\n",
    "s2 = pd.Series([2, 4, 6, 8, 10])\n",
    "\n",
    "s3 = s1 + 2 * s2\n",
    "\n",
    "print(s3)"
   ]
  },
  {
   "cell_type": "code",
   "execution_count": 8,
   "metadata": {},
   "outputs": [
    {
     "name": "stdout",
     "output_type": "stream",
     "text": [
      "0    False\n",
      "1    False\n",
      "2    False\n",
      "3     True\n",
      "4     True\n",
      "dtype: bool\n"
     ]
    }
   ],
   "source": [
    "s4 = s1 > 3\n",
    "\n",
    "print(s4)"
   ]
  },
  {
   "cell_type": "code",
   "execution_count": 11,
   "metadata": {},
   "outputs": [
    {
     "name": "stdout",
     "output_type": "stream",
     "text": [
      "a    2.0\n",
      "b    NaN\n",
      "c    7.0\n",
      "d    NaN\n",
      "dtype: float64\n"
     ]
    }
   ],
   "source": [
    "s1 = pd.Series([1, 3, 5, 6], index=[\"a\", \"b\", \"c\", \"d\"])\n",
    "s2 = pd.Series([1, 2], index=[\"a\", \"c\"])\n",
    "\n",
    "s3 = s1 + s2\n",
    "\n",
    "print(s3)"
   ]
  },
  {
   "cell_type": "markdown",
   "metadata": {},
   "source": [
    "## Recodificación de datos\n",
    "\n",
    "A veces manejar series de textos no es conviente, dado que nos interesa más su valor categórico que alfabético."
   ]
  },
  {
   "cell_type": "code",
   "execution_count": 12,
   "metadata": {},
   "outputs": [
    {
     "name": "stdout",
     "output_type": "stream",
     "text": [
      "0    1\n",
      "1    2\n",
      "2    2\n",
      "3    1\n",
      "4    1\n",
      "dtype: int64\n"
     ]
    }
   ],
   "source": [
    "s1 = pd.Series([\"M\", \"H\", \"H\", \"M\", \"M\"])\n",
    "\n",
    "s2 = s1.map(lambda g: 1 if g == \"M\" else 2)\n",
    "\n",
    "print(s2)"
   ]
  },
  {
   "cell_type": "code",
   "execution_count": 13,
   "metadata": {},
   "outputs": [
    {
     "name": "stdout",
     "output_type": "stream",
     "text": [
      "0    1\n",
      "1    2\n",
      "2    2\n",
      "3    1\n",
      "4    1\n",
      "dtype: int64\n"
     ]
    }
   ],
   "source": [
    "s1 = pd.Series([\"M\", \"H\", \"H\", \"M\", \"M\"])\n",
    "\n",
    "s2 = s1.map({\n",
    "    \"M\": 1,\n",
    "    \"H\": 2\n",
    "})\n",
    "\n",
    "print(s2)"
   ]
  },
  {
   "cell_type": "markdown",
   "metadata": {},
   "source": [
    "## DataFrames\n",
    "\n",
    "Los `DataFrames` o tablas nos permiten retener la información en forma de columnas, cada columna equivale a una `Serie`. Son útiles para manejar gran cantidad de datos, reducir datos, extender datos y adquirir/almacenar conjuntos grandes de datos bajo formatos como `csv` y `sql`."
   ]
  },
  {
   "cell_type": "code",
   "execution_count": 14,
   "metadata": {},
   "outputs": [
    {
     "name": "stdout",
     "output_type": "stream",
     "text": [
      "   A  B  C\n",
      "0  1  5  X\n",
      "1  2  4  X\n",
      "2  3  2  Y\n"
     ]
    }
   ],
   "source": [
    "# Crear un `dataframe` a partir de un diccionario de un diccionario de listas\n",
    "d = {\n",
    "    \"A\": [1, 2, 3],\n",
    "    \"B\": [5, 4, 2],\n",
    "    \"C\": [\"X\", \"X\", \"Y\"]\n",
    "}\n",
    "\n",
    "df = pd.DataFrame(d)\n",
    "\n",
    "print(df)"
   ]
  },
  {
   "cell_type": "code",
   "execution_count": 16,
   "metadata": {},
   "outputs": [
    {
     "name": "stdout",
     "output_type": "stream",
     "text": [
      "  nombres  edades generos\n",
      "0     Ana      23       M\n",
      "1    Beto      27       H\n",
      "2    Luis      34       H\n"
     ]
    }
   ],
   "source": [
    "# Crear un `dataframe` a partir de `series`\n",
    "\n",
    "s1 = pd.Series([\"Ana\", \"Beto\", \"Luis\"])\n",
    "s2 = pd.Series([23, 27, 34])\n",
    "s3 = pd.Series([\"M\", \"H\", \"H\"])\n",
    "\n",
    "df = pd.DataFrame(dict(nombres=s1, edades=s2, generos=s3))\n",
    "\n",
    "print(df)"
   ]
  },
  {
   "cell_type": "code",
   "execution_count": 17,
   "metadata": {},
   "outputs": [
    {
     "name": "stdout",
     "output_type": "stream",
     "text": [
      "   edad genero nombre\n",
      "0    23      M    Ana\n",
      "1    27      H   Beto\n",
      "2    34      H   Luis\n"
     ]
    }
   ],
   "source": [
    "# Crear un `dataframe` a partir de una lista de diccionarios\n",
    "personas = [\n",
    "    {\n",
    "        \"nombre\": \"Ana\",\n",
    "        \"edad\": 23,\n",
    "        \"genero\": \"M\"\n",
    "    },\n",
    "    {\n",
    "        \"nombre\": \"Beto\",\n",
    "        \"edad\": 27,\n",
    "        \"genero\": \"H\"\n",
    "    },\n",
    "    {\n",
    "        \"nombre\": \"Luis\",\n",
    "        \"edad\": 34,\n",
    "        \"genero\": \"H\"\n",
    "    }\n",
    "]\n",
    "\n",
    "df = pd.DataFrame(personas)\n",
    "\n",
    "print(df)"
   ]
  },
  {
   "cell_type": "markdown",
   "metadata": {},
   "source": [
    "## Cargar datos desde un CSV\n",
    "\n",
    "El formato `csv` es ampliamente utilizado como formato de tablas, dónde cada fila representa una línea en el archivo con los valores separados por comas, por ejemplo:\n",
    "\n",
    "~~~csv\n",
    "nombre,edad,genero\n",
    "ana,23,m\n",
    "beto,27,h\n",
    "luis,34,h\n",
    "~~~\n",
    "\n",
    "Para cargar el archivo `csv` en `pandas` usaremos la función `read_csv` que leerá el archivo desde nuestra computadora o desde internet. Por ejemplo, vamos un leer el archivo que se encuentra en el servidor."
   ]
  },
  {
   "cell_type": "code",
   "execution_count": 18,
   "metadata": {},
   "outputs": [
    {
     "name": "stdout",
     "output_type": "stream",
     "text": [
      "   sepal length  sepal width  petal length  petal width        class\n",
      "0           5.1          3.5           1.4          0.2  Iris-setosa\n",
      "1           4.9          3.0           1.4          0.2  Iris-setosa\n",
      "2           4.7          3.2           1.3          0.2  Iris-setosa\n",
      "3           4.6          3.1           1.5          0.2  Iris-setosa\n",
      "4           5.0          3.6           1.4          0.2  Iris-setosa\n"
     ]
    }
   ],
   "source": [
    "df = pd.read_csv(\"http://badillosoft.com/iris.csv\")\n",
    "\n",
    "print(df.head())"
   ]
  },
  {
   "cell_type": "markdown",
   "metadata": {},
   "source": [
    "Observa que el método `df.head()` muestra sólo los primeros `5` registros del `dataframe`. Prueba utilizar `df.head(10)`, `df.tail()`, `df.tail(3)`."
   ]
  },
  {
   "cell_type": "markdown",
   "metadata": {},
   "source": [
    "Podemos generar un resumen del `dataframe` utilizando el método `info`."
   ]
  },
  {
   "cell_type": "code",
   "execution_count": 19,
   "metadata": {},
   "outputs": [
    {
     "name": "stdout",
     "output_type": "stream",
     "text": [
      "<class 'pandas.core.frame.DataFrame'>\n",
      "RangeIndex: 150 entries, 0 to 149\n",
      "Data columns (total 5 columns):\n",
      "sepal length    150 non-null float64\n",
      "sepal width     150 non-null float64\n",
      "petal length    150 non-null float64\n",
      "petal width     150 non-null float64\n",
      "class           150 non-null object\n",
      "dtypes: float64(4), object(1)\n",
      "memory usage: 5.9+ KB\n",
      "None\n"
     ]
    }
   ],
   "source": [
    "print(df.info())"
   ]
  }
 ],
 "metadata": {
  "kernelspec": {
   "display_name": "Python 3",
   "language": "python",
   "name": "python3"
  },
  "language_info": {
   "codemirror_mode": {
    "name": "ipython",
    "version": 3
   },
   "file_extension": ".py",
   "mimetype": "text/x-python",
   "name": "python",
   "nbconvert_exporter": "python",
   "pygments_lexer": "ipython3",
   "version": "3.7.0"
  }
 },
 "nbformat": 4,
 "nbformat_minor": 2
}
